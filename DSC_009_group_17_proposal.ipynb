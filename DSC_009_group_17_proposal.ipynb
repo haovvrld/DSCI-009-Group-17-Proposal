{
 "cells": [
  {
   "cell_type": "markdown",
   "id": "a35d934e-e7c4-479c-a361-972c99eba0f4",
   "metadata": {
    "tags": []
   },
   "source": [
    "## DSCI 100 Project Proposal: Classifying star category using temperature, luminosity, radius, and absolute magnitude as predictors."
   ]
  },
  {
   "cell_type": "markdown",
   "id": "57aec1d6-66d9-4ff7-8a5f-c4093e947072",
   "metadata": {},
   "source": [
    "### Introduction"
   ]
  },
  {
   "cell_type": "markdown",
   "id": "2b508de4-6ee4-443f-a450-0e9b0b8cd2a7",
   "metadata": {},
   "source": [
    "&emsp; In the celestial realm, stars are crucial celestial entities, each characterized by unique spectral and physical attributes. Contrary to ancient methods of classification that utilized constellations and positions in the sky, scientific reasoning in modern astrophysics seeks a unified understanding. Being such complex bodies, classifying the various star types can become ambiguous, thus demanding rigorous analysis of the various multifaceted characteristics through quantifiable values."
   ]
  },
  {
   "cell_type": "markdown",
   "id": "65bf7758-bea0-4606-ac9b-bfaaa375643b",
   "metadata": {
    "tags": []
   },
   "source": [
    "**Question:** Can we successively predict the star type based on data including temperature, luminosity, radius and absolute magnitude? "
   ]
  },
  {
   "cell_type": "markdown",
   "id": "a86bcae4-5832-4ee3-97c6-c6b27b337e45",
   "metadata": {
    "tags": []
   },
   "source": [
    "**Dataset Description**"
   ]
  },
  {
   "cell_type": "markdown",
   "id": "e4ac1212-bb21-446e-a9a9-ed78d42d8362",
   "metadata": {},
   "source": [
    "&emsp; For the purpose of the project we will be using the Star Classification dataset provided by the YBI Foundation on [Kaggle](https://www.kaggle.com/code/ybifoundation/stars-classification). The data contains the following variables: star absolute temperature(in K), relative luminosity (L/Lo), relative radius (R/Ro), absolute magnitude (Mv), color, spectral class, and star type. Not all of these variables serve a purpose as many are classifications not predictors, more information on our variable selection in the **methods** section.\n"
   ]
  },
  {
   "cell_type": "markdown",
   "id": "1804a973-cb78-4ae4-912c-7baadddd3f0f",
   "metadata": {},
   "source": [
    "### Preliminary exploratory data analysis"
   ]
  },
  {
   "cell_type": "markdown",
   "id": "f26d35d7-6e62-484a-82c4-8444b6f99da1",
   "metadata": {
    "tags": []
   },
   "source": [
    "**Setting Up Libraries and Parameters**"
   ]
  },
  {
   "cell_type": "code",
   "execution_count": 25,
   "id": "76bcd2dd-1309-4f12-a9c4-176532867338",
   "metadata": {
    "tags": []
   },
   "outputs": [],
   "source": [
    "# Run this first.\n",
    "library(tidyverse)\n",
    "library(tidymodels)\n",
    "\n",
    "# Importing data\n",
    "dataset_url <- \"https://raw.githubusercontent.com/YBIFoundation/Dataset/main/Stars.csv\""
   ]
  },
  {
   "cell_type": "markdown",
   "id": "40c3e07e-1848-4f82-89dd-9159fd14db6a",
   "metadata": {
    "tags": []
   },
   "source": [
    "**Loading and tidying data**"
   ]
  },
  {
   "cell_type": "code",
   "execution_count": 43,
   "id": "7c9ee2be-38fb-4582-a4ea-19d186ebc80f",
   "metadata": {
    "tags": []
   },
   "outputs": [
    {
     "name": "stderr",
     "output_type": "stream",
     "text": [
      "\u001b[1mRows: \u001b[22m\u001b[34m240\u001b[39m \u001b[1mColumns: \u001b[22m\u001b[34m8\u001b[39m\n",
      "\u001b[36m──\u001b[39m \u001b[1mColumn specification\u001b[22m \u001b[36m────────────────────────────────────────────────────────\u001b[39m\n",
      "\u001b[1mDelimiter:\u001b[22m \",\"\n",
      "\u001b[31mchr\u001b[39m (3): Star category, Star color, Spectral Class\n",
      "\u001b[32mdbl\u001b[39m (5): Temperature (K), Luminosity (L/Lo), Radius (R/Ro), Absolute magnitu...\n",
      "\n",
      "\u001b[36mℹ\u001b[39m Use `spec()` to retrieve the full column specification for this data.\n",
      "\u001b[36mℹ\u001b[39m Specify the column types or set `show_col_types = FALSE` to quiet this message.\n"
     ]
    },
    {
     "data": {
      "text/html": [
       "<table class=\"dataframe\">\n",
       "<caption>A tibble: 6 × 5</caption>\n",
       "<thead>\n",
       "\t<tr><th scope=col>temperature</th><th scope=col>luminosity</th><th scope=col>radius</th><th scope=col>absolute_magnitude</th><th scope=col>star_category</th></tr>\n",
       "\t<tr><th scope=col>&lt;dbl&gt;</th><th scope=col>&lt;dbl&gt;</th><th scope=col>&lt;dbl&gt;</th><th scope=col>&lt;dbl&gt;</th><th scope=col>&lt;chr&gt;</th></tr>\n",
       "</thead>\n",
       "<tbody>\n",
       "\t<tr><td>3068</td><td>0.002400</td><td>0.1700</td><td>16.12</td><td>Brown Dwarf</td></tr>\n",
       "\t<tr><td>3042</td><td>0.000500</td><td>0.1542</td><td>16.60</td><td>Brown Dwarf</td></tr>\n",
       "\t<tr><td>2600</td><td>0.000300</td><td>0.1020</td><td>18.70</td><td>Brown Dwarf</td></tr>\n",
       "\t<tr><td>2800</td><td>0.000200</td><td>0.1600</td><td>16.65</td><td>Brown Dwarf</td></tr>\n",
       "\t<tr><td>1939</td><td>0.000138</td><td>0.1030</td><td>20.06</td><td>Brown Dwarf</td></tr>\n",
       "\t<tr><td>2840</td><td>0.000650</td><td>0.1100</td><td>16.98</td><td>Brown Dwarf</td></tr>\n",
       "</tbody>\n",
       "</table>\n"
      ],
      "text/latex": [
       "A tibble: 6 × 5\n",
       "\\begin{tabular}{lllll}\n",
       " temperature & luminosity & radius & absolute\\_magnitude & star\\_category\\\\\n",
       " <dbl> & <dbl> & <dbl> & <dbl> & <chr>\\\\\n",
       "\\hline\n",
       "\t 3068 & 0.002400 & 0.1700 & 16.12 & Brown Dwarf\\\\\n",
       "\t 3042 & 0.000500 & 0.1542 & 16.60 & Brown Dwarf\\\\\n",
       "\t 2600 & 0.000300 & 0.1020 & 18.70 & Brown Dwarf\\\\\n",
       "\t 2800 & 0.000200 & 0.1600 & 16.65 & Brown Dwarf\\\\\n",
       "\t 1939 & 0.000138 & 0.1030 & 20.06 & Brown Dwarf\\\\\n",
       "\t 2840 & 0.000650 & 0.1100 & 16.98 & Brown Dwarf\\\\\n",
       "\\end{tabular}\n"
      ],
      "text/markdown": [
       "\n",
       "A tibble: 6 × 5\n",
       "\n",
       "| temperature &lt;dbl&gt; | luminosity &lt;dbl&gt; | radius &lt;dbl&gt; | absolute_magnitude &lt;dbl&gt; | star_category &lt;chr&gt; |\n",
       "|---|---|---|---|---|\n",
       "| 3068 | 0.002400 | 0.1700 | 16.12 | Brown Dwarf |\n",
       "| 3042 | 0.000500 | 0.1542 | 16.60 | Brown Dwarf |\n",
       "| 2600 | 0.000300 | 0.1020 | 18.70 | Brown Dwarf |\n",
       "| 2800 | 0.000200 | 0.1600 | 16.65 | Brown Dwarf |\n",
       "| 1939 | 0.000138 | 0.1030 | 20.06 | Brown Dwarf |\n",
       "| 2840 | 0.000650 | 0.1100 | 16.98 | Brown Dwarf |\n",
       "\n"
      ],
      "text/plain": [
       "  temperature luminosity radius absolute_magnitude star_category\n",
       "1 3068        0.002400   0.1700 16.12              Brown Dwarf  \n",
       "2 3042        0.000500   0.1542 16.60              Brown Dwarf  \n",
       "3 2600        0.000300   0.1020 18.70              Brown Dwarf  \n",
       "4 2800        0.000200   0.1600 16.65              Brown Dwarf  \n",
       "5 1939        0.000138   0.1030 20.06              Brown Dwarf  \n",
       "6 2840        0.000650   0.1100 16.98              Brown Dwarf  "
      ]
     },
     "metadata": {},
     "output_type": "display_data"
    },
    {
     "data": {
      "text/plain": [
       "  temperature      luminosity           radius          absolute_magnitude\n",
       " Min.   : 1939   Min.   :     0.0   Min.   :   0.0084   Min.   :-11.920   \n",
       " 1st Qu.: 3344   1st Qu.:     0.0   1st Qu.:   0.1027   1st Qu.: -6.232   \n",
       " Median : 5776   Median :     0.1   Median :   0.7625   Median :  8.313   \n",
       " Mean   :10497   Mean   :107188.4   Mean   : 237.1578   Mean   :  4.382   \n",
       " 3rd Qu.:15056   3rd Qu.:198050.0   3rd Qu.:  42.7500   3rd Qu.: 13.697   \n",
       " Max.   :40000   Max.   :849420.0   Max.   :1948.5000   Max.   : 20.060   \n",
       " star_category     \n",
       " Length:240        \n",
       " Class :character  \n",
       " Mode  :character  \n",
       "                   \n",
       "                   \n",
       "                   "
      ]
     },
     "metadata": {},
     "output_type": "display_data"
    }
   ],
   "source": [
    "# loading and tidying\n",
    "star_raw_data <- read_csv(dataset_url) \n",
    "\n",
    "star_data <- star_raw_data |>\n",
    "    rename(temperature = \"Temperature (K)\",\n",
    "           luminosity = \"Luminosity (L/Lo)\",\n",
    "           radius = \"Radius (R/Ro)\",\n",
    "           absolute_magnitude = \"Absolute magnitude (Mv)\",\n",
    "           star_type = \"Star type\",\n",
    "           star_category = \"Star category\",\n",
    "           star_colour = \"Star color\",\n",
    "           spectral_class = \"Spectral Class\") |>\n",
    "    select(temperature:absolute_magnitude,star_category)\n",
    "    \n",
    "\n",
    "# splitting and creating training and testing data\n",
    "star_data_split <- star_data |>\n",
    "    initial_split(props=0.75, strata=star_category)\n",
    "\n",
    "#star_training_data <- \n",
    "#star_testing_data <- \n",
    "\n",
    "# head and summary of our data\n",
    "head(star_data)\n",
    "summary(star_data)"
   ]
  },
  {
   "cell_type": "markdown",
   "id": "40d695b4-40c4-4ff7-a47b-b3234118d367",
   "metadata": {
    "tags": []
   },
   "source": [
    "**Preliminary Data Visualization**"
   ]
  },
  {
   "cell_type": "code",
   "execution_count": null,
   "id": "43394fd9-8ac1-4cae-b926-0157a8799ab0",
   "metadata": {},
   "outputs": [],
   "source": []
  },
  {
   "cell_type": "markdown",
   "id": "6ceb3165-79bf-4ad7-a259-63f26314d5fe",
   "metadata": {
    "tags": []
   },
   "source": [
    "### Methods"
   ]
  },
  {
   "cell_type": "markdown",
   "id": "3612dc5d-3fb5-4064-9e50-e19885909cb3",
   "metadata": {},
   "source": [
    "&emsp; Using the processed Star Classification Dataset, where libraries such as tidyverse, repr, and tidymodels have been used, we can utilize the data to determine the star category. The following variables serve as potential predictors:\n",
    "*  **Temperature**\n",
    "*  **Luminosity**\n",
    "*  **Radius**\n",
    "*  **Absolute Magnitude** "
   ]
  },
  {
   "cell_type": "markdown",
   "id": "681c5c64-8f59-4836-9348-3d9cb58080a5",
   "metadata": {},
   "source": [
    "Star type is chosen as our class reasoning due to its vague characteristics that can be used as predictors to classify the types of stars. Analyzing star colour or spectral class for classification relies on observation as opposed to predictive reasoning.\n",
    "\n",
    "\n",
    "KNN is chosen as our predictive model due to the star type's categorical nature and its ability to capture nonlinear boundaries present in the star dataset. Thus providing a more interpretable and reliable approach. The justification for not choosing star spectral class and star colour was that their categorical nature could disrupt the KNN classifications that rely on numeric computation.\n"
   ]
  },
  {
   "cell_type": "markdown",
   "id": "b30396b5-ede1-40f8-9e6f-bb3f0a629bba",
   "metadata": {},
   "source": [
    "### Expected Outcomes and Significance"
   ]
  },
  {
   "cell_type": "markdown",
   "id": "2908dd4f-87b3-4a16-a588-a052e987aab2",
   "metadata": {},
   "source": [
    "We predict that after using KNN classification on our modified dataset, we can predict star types based on the chosen predictors successively. This enables a deeper understanding of the distinguishing characteristics of various star types. Utilizing star classification to predict the star type can be highly significant for astronomers to identify distinct patterns and gain a higher understanding of the universe. \n",
    "\n",
    "Future Questions:\n",
    "1. Can we use this algorithm to successfully predict the star type of the sun?\n",
    "2. To what extent is KNN classification a more fitting way of analyzing the data rather than other algorithms?\n"
   ]
  },
  {
   "cell_type": "markdown",
   "id": "a90e50c4-18cc-405b-b9a7-d00cfff57619",
   "metadata": {},
   "source": [
    "### References"
   ]
  },
  {
   "cell_type": "markdown",
   "id": "b65d3b39-e354-4ad1-8d0c-d06c498676f8",
   "metadata": {
    "tags": []
   },
   "source": [
    "YBI FOUNDATION. “Stars Classification.” *Kaggle*, 9 Mar. 2023, Accessed 25 Oct. 2023. "
   ]
  },
  {
   "cell_type": "code",
   "execution_count": null,
   "id": "0e7f71c6-cbe7-40fc-b68b-271cfa65307b",
   "metadata": {},
   "outputs": [],
   "source": []
  }
 ],
 "metadata": {
  "kernelspec": {
   "display_name": "R",
   "language": "R",
   "name": "ir"
  },
  "language_info": {
   "codemirror_mode": "r",
   "file_extension": ".r",
   "mimetype": "text/x-r-source",
   "name": "R",
   "pygments_lexer": "r",
   "version": "4.2.2"
  }
 },
 "nbformat": 4,
 "nbformat_minor": 5
}
