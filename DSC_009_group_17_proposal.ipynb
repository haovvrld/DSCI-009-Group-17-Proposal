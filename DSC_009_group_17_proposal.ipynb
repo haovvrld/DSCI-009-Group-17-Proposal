{
 "cells": [
  {
   "cell_type": "code",
   "execution_count": null,
   "id": "71581d60-6646-41e0-b1a4-2713a25aeba7",
   "metadata": {},
   "outputs": [],
   "source": [
    "This will be our project file"
   ]
  }
 ],
 "metadata": {
  "kernelspec": {
   "display_name": "R",
   "language": "R",
   "name": "ir"
  },
  "language_info": {
   "codemirror_mode": "r",
   "file_extension": ".r",
   "mimetype": "text/x-r-source",
   "name": "R",
   "pygments_lexer": "r",
   "version": "4.2.2"
  }
 },
 "nbformat": 4,
 "nbformat_minor": 5
}
