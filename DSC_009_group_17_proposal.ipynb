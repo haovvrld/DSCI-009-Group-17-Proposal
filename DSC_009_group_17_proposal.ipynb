{
 "cells": [
  {
   "cell_type": "markdown",
   "id": "a35d934e-e7c4-479c-a361-972c99eba0f4",
   "metadata": {
    "tags": []
   },
   "source": [
    "## DSCI 100 Project Proposal: Classifying star category using temperature, luminosity, radius, and absolute magnitude as predictors."
   ]
  },
  {
   "cell_type": "markdown",
   "id": "57aec1d6-66d9-4ff7-8a5f-c4093e947072",
   "metadata": {},
   "source": [
    "### Introduction"
   ]
  },
  {
   "cell_type": "markdown",
   "id": "2b508de4-6ee4-443f-a450-0e9b0b8cd2a7",
   "metadata": {},
   "source": [
    "&emsp;&emsp; In the celestial realm, stars are crucial celestial entities, each characterized by unique spectral and physical attributes. Contrary to ancient methods of classification that utilized constellations and positions in the sky, scientific reasoning in modern astrophysics seeks a unified understanding. Being such complex bodies, classifying the various star types can become ambiguous, thus demanding rigorous analysis of the various multifaceted characteristics through quantifiable values."
   ]
  },
  {
   "cell_type": "markdown",
   "id": "65bf7758-bea0-4606-ac9b-bfaaa375643b",
   "metadata": {
    "tags": []
   },
   "source": [
    "**Question:** Can we successively predict the star type based on data including temperature, luminosity, radius and absolute magnitude? "
   ]
  },
  {
   "cell_type": "markdown",
   "id": "a86bcae4-5832-4ee3-97c6-c6b27b337e45",
   "metadata": {
    "tags": []
   },
   "source": [
    "**Dataset Description**"
   ]
  },
  {
   "cell_type": "markdown",
   "id": "e4ac1212-bb21-446e-a9a9-ed78d42d8362",
   "metadata": {},
   "source": [
    "&emsp;&emsp; For the purpose of the project we will be using the Star Classification dataset provided by the YBI Foundation on [Kaggle](https://www.kaggle.com/code/ybifoundation/stars-classification). The data contains the following variables: star absolute temperature(in K), relative luminosity (L/Lo), relative radius (R/Ro), absolute magnitude (Mv), color, spectral class, and star type. Not all of these variables serve a purpose as many are classifications not predictors, more information on our variable selection in the **methods** section.\n"
   ]
  },
  {
   "cell_type": "markdown",
   "id": "1804a973-cb78-4ae4-912c-7baadddd3f0f",
   "metadata": {},
   "source": [
    "### Preliminary exploratory data analysis"
   ]
  },
  {
   "cell_type": "markdown",
   "id": "f26d35d7-6e62-484a-82c4-8444b6f99da1",
   "metadata": {
    "tags": []
   },
   "source": [
    "**Setting Up Libraries and Parameters**"
   ]
  },
  {
   "cell_type": "code",
   "execution_count": 25,
   "id": "76bcd2dd-1309-4f12-a9c4-176532867338",
   "metadata": {
    "tags": []
   },
   "outputs": [],
   "source": [
    "# Run this first.\n",
    "library(tidyverse)\n",
    "library(tidymodels)\n",
    "\n",
    "# Importing data\n",
    "dataset_url <- \"https://raw.githubusercontent.com/YBIFoundation/Dataset/main/Stars.csv\""
   ]
  },
  {
   "cell_type": "markdown",
   "id": "40c3e07e-1848-4f82-89dd-9159fd14db6a",
   "metadata": {
    "tags": []
   },
   "source": [
    "**Loading and tidying data**"
   ]
  },
  {
   "cell_type": "code",
   "execution_count": 33,
   "id": "7c9ee2be-38fb-4582-a4ea-19d186ebc80f",
   "metadata": {
    "tags": []
   },
   "outputs": [
    {
     "name": "stderr",
     "output_type": "stream",
     "text": [
      "\u001b[1mRows: \u001b[22m\u001b[34m240\u001b[39m \u001b[1mColumns: \u001b[22m\u001b[34m8\u001b[39m\n",
      "\u001b[36m──\u001b[39m \u001b[1mColumn specification\u001b[22m \u001b[36m────────────────────────────────────────────────────────\u001b[39m\n",
      "\u001b[1mDelimiter:\u001b[22m \",\"\n",
      "\u001b[31mchr\u001b[39m (3): Star category, Star color, Spectral Class\n",
      "\u001b[32mdbl\u001b[39m (5): Temperature (K), Luminosity (L/Lo), Radius (R/Ro), Absolute magnitu...\n",
      "\n",
      "\u001b[36mℹ\u001b[39m Use `spec()` to retrieve the full column specification for this data.\n",
      "\u001b[36mℹ\u001b[39m Specify the column types or set `show_col_types = FALSE` to quiet this message.\n"
     ]
    },
    {
     "data": {
      "text/html": [
       "<table class=\"dataframe\">\n",
       "<caption>A tibble: 240 × 5</caption>\n",
       "<thead>\n",
       "\t<tr><th scope=col>temperature</th><th scope=col>luminosity</th><th scope=col>radius</th><th scope=col>absolute_magnitude</th><th scope=col>star_category</th></tr>\n",
       "\t<tr><th scope=col>&lt;dbl&gt;</th><th scope=col>&lt;dbl&gt;</th><th scope=col>&lt;dbl&gt;</th><th scope=col>&lt;dbl&gt;</th><th scope=col>&lt;chr&gt;</th></tr>\n",
       "</thead>\n",
       "<tbody>\n",
       "\t<tr><td> 3068</td><td>0.002400</td><td>0.17000</td><td>16.120</td><td>Brown Dwarf</td></tr>\n",
       "\t<tr><td> 3042</td><td>0.000500</td><td>0.15420</td><td>16.600</td><td>Brown Dwarf</td></tr>\n",
       "\t<tr><td> 2600</td><td>0.000300</td><td>0.10200</td><td>18.700</td><td>Brown Dwarf</td></tr>\n",
       "\t<tr><td> 2800</td><td>0.000200</td><td>0.16000</td><td>16.650</td><td>Brown Dwarf</td></tr>\n",
       "\t<tr><td> 1939</td><td>0.000138</td><td>0.10300</td><td>20.060</td><td>Brown Dwarf</td></tr>\n",
       "\t<tr><td> 2840</td><td>0.000650</td><td>0.11000</td><td>16.980</td><td>Brown Dwarf</td></tr>\n",
       "\t<tr><td> 2637</td><td>0.000730</td><td>0.12700</td><td>17.220</td><td>Brown Dwarf</td></tr>\n",
       "\t<tr><td> 2600</td><td>0.000400</td><td>0.09600</td><td>17.400</td><td>Brown Dwarf</td></tr>\n",
       "\t<tr><td> 2650</td><td>0.000690</td><td>0.11000</td><td>17.450</td><td>Brown Dwarf</td></tr>\n",
       "\t<tr><td> 2700</td><td>0.000180</td><td>0.13000</td><td>16.050</td><td>Brown Dwarf</td></tr>\n",
       "\t<tr><td> 3600</td><td>0.002900</td><td>0.51000</td><td>10.690</td><td>Red Dwarf  </td></tr>\n",
       "\t<tr><td> 3129</td><td>0.012200</td><td>0.37610</td><td>11.790</td><td>Red Dwarf  </td></tr>\n",
       "\t<tr><td> 3134</td><td>0.000400</td><td>0.19600</td><td>13.210</td><td>Red Dwarf  </td></tr>\n",
       "\t<tr><td> 3628</td><td>0.005500</td><td>0.39300</td><td>10.480</td><td>Red Dwarf  </td></tr>\n",
       "\t<tr><td> 2650</td><td>0.000600</td><td>0.14000</td><td>11.782</td><td>Red Dwarf  </td></tr>\n",
       "\t<tr><td> 3340</td><td>0.003800</td><td>0.24000</td><td>13.070</td><td>Red Dwarf  </td></tr>\n",
       "\t<tr><td> 2799</td><td>0.001800</td><td>0.16000</td><td>14.790</td><td>Red Dwarf  </td></tr>\n",
       "\t<tr><td> 3692</td><td>0.003670</td><td>0.47000</td><td>10.800</td><td>Red Dwarf  </td></tr>\n",
       "\t<tr><td> 3192</td><td>0.003620</td><td>0.19670</td><td>13.530</td><td>Red Dwarf  </td></tr>\n",
       "\t<tr><td> 3441</td><td>0.039000</td><td>0.35100</td><td>11.180</td><td>Red Dwarf  </td></tr>\n",
       "\t<tr><td>25000</td><td>0.056000</td><td>0.00840</td><td>10.580</td><td>White Dwarf</td></tr>\n",
       "\t<tr><td> 7740</td><td>0.000490</td><td>0.01234</td><td>14.020</td><td>White Dwarf</td></tr>\n",
       "\t<tr><td> 7220</td><td>0.000170</td><td>0.01100</td><td>14.230</td><td>White Dwarf</td></tr>\n",
       "\t<tr><td> 8500</td><td>0.000500</td><td>0.01000</td><td>14.500</td><td>White Dwarf</td></tr>\n",
       "\t<tr><td>16500</td><td>0.013000</td><td>0.01400</td><td>11.890</td><td>White Dwarf</td></tr>\n",
       "\t<tr><td>12990</td><td>0.000085</td><td>0.00984</td><td>12.230</td><td>White Dwarf</td></tr>\n",
       "\t<tr><td> 8570</td><td>0.000810</td><td>0.00970</td><td>14.200</td><td>White Dwarf</td></tr>\n",
       "\t<tr><td> 7700</td><td>0.000110</td><td>0.01280</td><td>14.470</td><td>White Dwarf</td></tr>\n",
       "\t<tr><td>11790</td><td>0.000150</td><td>0.01100</td><td>12.590</td><td>White Dwarf</td></tr>\n",
       "\t<tr><td> 7230</td><td>0.000080</td><td>0.01300</td><td>14.080</td><td>White Dwarf</td></tr>\n",
       "\t<tr><td>⋮</td><td>⋮</td><td>⋮</td><td>⋮</td><td>⋮</td></tr>\n",
       "\t<tr><td>22350</td><td> 12450.00</td><td>   6.360</td><td> -3.670</td><td>Main Sequence</td></tr>\n",
       "\t<tr><td>10012</td><td>   552.00</td><td>   5.856</td><td>  0.013</td><td>Main Sequence</td></tr>\n",
       "\t<tr><td>13089</td><td>   788.00</td><td>   5.992</td><td> -0.120</td><td>Main Sequence</td></tr>\n",
       "\t<tr><td>22012</td><td>  6748.00</td><td>   6.640</td><td> -2.550</td><td>Main Sequence</td></tr>\n",
       "\t<tr><td>34190</td><td>198200.00</td><td>   6.390</td><td> -4.570</td><td>Main Sequence</td></tr>\n",
       "\t<tr><td>32460</td><td>173800.00</td><td>   6.237</td><td> -4.360</td><td>Main Sequence</td></tr>\n",
       "\t<tr><td> 9320</td><td>    29.00</td><td>   1.910</td><td>  1.236</td><td>Main Sequence</td></tr>\n",
       "\t<tr><td>19400</td><td> 10920.00</td><td>   6.030</td><td> -3.080</td><td>Main Sequence</td></tr>\n",
       "\t<tr><td>17140</td><td>   883.00</td><td>   5.653</td><td> -2.640</td><td>Main Sequence</td></tr>\n",
       "\t<tr><td> 8250</td><td>     9.25</td><td>   1.930</td><td> -0.980</td><td>Main Sequence</td></tr>\n",
       "\t<tr><td>23678</td><td>244290.00</td><td>  35.000</td><td> -6.270</td><td>Supergiant   </td></tr>\n",
       "\t<tr><td>12749</td><td>332520.00</td><td>  76.000</td><td> -7.020</td><td>Supergiant   </td></tr>\n",
       "\t<tr><td> 9383</td><td>342940.00</td><td>  98.000</td><td> -6.980</td><td>Supergiant   </td></tr>\n",
       "\t<tr><td>23440</td><td>537430.00</td><td>  81.000</td><td> -5.975</td><td>Supergiant   </td></tr>\n",
       "\t<tr><td>16787</td><td>246730.00</td><td>  62.000</td><td> -6.350</td><td>Supergiant   </td></tr>\n",
       "\t<tr><td>18734</td><td>224780.00</td><td>  46.000</td><td> -7.450</td><td>Supergiant   </td></tr>\n",
       "\t<tr><td> 9892</td><td>593900.00</td><td>  80.000</td><td> -7.262</td><td>Supergiant   </td></tr>\n",
       "\t<tr><td>10930</td><td>783930.00</td><td>  25.000</td><td> -6.224</td><td>Supergiant   </td></tr>\n",
       "\t<tr><td>23095</td><td>347820.00</td><td>  86.000</td><td> -5.905</td><td>Supergiant   </td></tr>\n",
       "\t<tr><td>21738</td><td>748890.00</td><td>  92.000</td><td> -7.346</td><td>Supergiant   </td></tr>\n",
       "\t<tr><td>24145</td><td>382993.00</td><td>1494.000</td><td> -8.840</td><td>Hypergiant   </td></tr>\n",
       "\t<tr><td>38234</td><td>272830.00</td><td>1356.000</td><td> -9.290</td><td>Hypergiant   </td></tr>\n",
       "\t<tr><td>32489</td><td>648430.00</td><td>1948.500</td><td>-10.840</td><td>Hypergiant   </td></tr>\n",
       "\t<tr><td>27739</td><td>849420.00</td><td>1252.000</td><td> -7.590</td><td>Hypergiant   </td></tr>\n",
       "\t<tr><td>21904</td><td>748490.00</td><td>1130.000</td><td> -7.670</td><td>Hypergiant   </td></tr>\n",
       "\t<tr><td>38940</td><td>374830.00</td><td>1356.000</td><td> -9.930</td><td>Hypergiant   </td></tr>\n",
       "\t<tr><td>30839</td><td>834042.00</td><td>1194.000</td><td>-10.630</td><td>Hypergiant   </td></tr>\n",
       "\t<tr><td> 8829</td><td>537493.00</td><td>1423.000</td><td>-10.730</td><td>Hypergiant   </td></tr>\n",
       "\t<tr><td> 9235</td><td>404940.00</td><td>1112.000</td><td>-11.230</td><td>Hypergiant   </td></tr>\n",
       "\t<tr><td>37882</td><td>294903.00</td><td>1783.000</td><td> -7.800</td><td>Hypergiant   </td></tr>\n",
       "</tbody>\n",
       "</table>\n"
      ],
      "text/latex": [
       "A tibble: 240 × 5\n",
       "\\begin{tabular}{lllll}\n",
       " temperature & luminosity & radius & absolute\\_magnitude & star\\_category\\\\\n",
       " <dbl> & <dbl> & <dbl> & <dbl> & <chr>\\\\\n",
       "\\hline\n",
       "\t  3068 & 0.002400 & 0.17000 & 16.120 & Brown Dwarf\\\\\n",
       "\t  3042 & 0.000500 & 0.15420 & 16.600 & Brown Dwarf\\\\\n",
       "\t  2600 & 0.000300 & 0.10200 & 18.700 & Brown Dwarf\\\\\n",
       "\t  2800 & 0.000200 & 0.16000 & 16.650 & Brown Dwarf\\\\\n",
       "\t  1939 & 0.000138 & 0.10300 & 20.060 & Brown Dwarf\\\\\n",
       "\t  2840 & 0.000650 & 0.11000 & 16.980 & Brown Dwarf\\\\\n",
       "\t  2637 & 0.000730 & 0.12700 & 17.220 & Brown Dwarf\\\\\n",
       "\t  2600 & 0.000400 & 0.09600 & 17.400 & Brown Dwarf\\\\\n",
       "\t  2650 & 0.000690 & 0.11000 & 17.450 & Brown Dwarf\\\\\n",
       "\t  2700 & 0.000180 & 0.13000 & 16.050 & Brown Dwarf\\\\\n",
       "\t  3600 & 0.002900 & 0.51000 & 10.690 & Red Dwarf  \\\\\n",
       "\t  3129 & 0.012200 & 0.37610 & 11.790 & Red Dwarf  \\\\\n",
       "\t  3134 & 0.000400 & 0.19600 & 13.210 & Red Dwarf  \\\\\n",
       "\t  3628 & 0.005500 & 0.39300 & 10.480 & Red Dwarf  \\\\\n",
       "\t  2650 & 0.000600 & 0.14000 & 11.782 & Red Dwarf  \\\\\n",
       "\t  3340 & 0.003800 & 0.24000 & 13.070 & Red Dwarf  \\\\\n",
       "\t  2799 & 0.001800 & 0.16000 & 14.790 & Red Dwarf  \\\\\n",
       "\t  3692 & 0.003670 & 0.47000 & 10.800 & Red Dwarf  \\\\\n",
       "\t  3192 & 0.003620 & 0.19670 & 13.530 & Red Dwarf  \\\\\n",
       "\t  3441 & 0.039000 & 0.35100 & 11.180 & Red Dwarf  \\\\\n",
       "\t 25000 & 0.056000 & 0.00840 & 10.580 & White Dwarf\\\\\n",
       "\t  7740 & 0.000490 & 0.01234 & 14.020 & White Dwarf\\\\\n",
       "\t  7220 & 0.000170 & 0.01100 & 14.230 & White Dwarf\\\\\n",
       "\t  8500 & 0.000500 & 0.01000 & 14.500 & White Dwarf\\\\\n",
       "\t 16500 & 0.013000 & 0.01400 & 11.890 & White Dwarf\\\\\n",
       "\t 12990 & 0.000085 & 0.00984 & 12.230 & White Dwarf\\\\\n",
       "\t  8570 & 0.000810 & 0.00970 & 14.200 & White Dwarf\\\\\n",
       "\t  7700 & 0.000110 & 0.01280 & 14.470 & White Dwarf\\\\\n",
       "\t 11790 & 0.000150 & 0.01100 & 12.590 & White Dwarf\\\\\n",
       "\t  7230 & 0.000080 & 0.01300 & 14.080 & White Dwarf\\\\\n",
       "\t ⋮ & ⋮ & ⋮ & ⋮ & ⋮\\\\\n",
       "\t 22350 &  12450.00 &    6.360 &  -3.670 & Main Sequence\\\\\n",
       "\t 10012 &    552.00 &    5.856 &   0.013 & Main Sequence\\\\\n",
       "\t 13089 &    788.00 &    5.992 &  -0.120 & Main Sequence\\\\\n",
       "\t 22012 &   6748.00 &    6.640 &  -2.550 & Main Sequence\\\\\n",
       "\t 34190 & 198200.00 &    6.390 &  -4.570 & Main Sequence\\\\\n",
       "\t 32460 & 173800.00 &    6.237 &  -4.360 & Main Sequence\\\\\n",
       "\t  9320 &     29.00 &    1.910 &   1.236 & Main Sequence\\\\\n",
       "\t 19400 &  10920.00 &    6.030 &  -3.080 & Main Sequence\\\\\n",
       "\t 17140 &    883.00 &    5.653 &  -2.640 & Main Sequence\\\\\n",
       "\t  8250 &      9.25 &    1.930 &  -0.980 & Main Sequence\\\\\n",
       "\t 23678 & 244290.00 &   35.000 &  -6.270 & Supergiant   \\\\\n",
       "\t 12749 & 332520.00 &   76.000 &  -7.020 & Supergiant   \\\\\n",
       "\t  9383 & 342940.00 &   98.000 &  -6.980 & Supergiant   \\\\\n",
       "\t 23440 & 537430.00 &   81.000 &  -5.975 & Supergiant   \\\\\n",
       "\t 16787 & 246730.00 &   62.000 &  -6.350 & Supergiant   \\\\\n",
       "\t 18734 & 224780.00 &   46.000 &  -7.450 & Supergiant   \\\\\n",
       "\t  9892 & 593900.00 &   80.000 &  -7.262 & Supergiant   \\\\\n",
       "\t 10930 & 783930.00 &   25.000 &  -6.224 & Supergiant   \\\\\n",
       "\t 23095 & 347820.00 &   86.000 &  -5.905 & Supergiant   \\\\\n",
       "\t 21738 & 748890.00 &   92.000 &  -7.346 & Supergiant   \\\\\n",
       "\t 24145 & 382993.00 & 1494.000 &  -8.840 & Hypergiant   \\\\\n",
       "\t 38234 & 272830.00 & 1356.000 &  -9.290 & Hypergiant   \\\\\n",
       "\t 32489 & 648430.00 & 1948.500 & -10.840 & Hypergiant   \\\\\n",
       "\t 27739 & 849420.00 & 1252.000 &  -7.590 & Hypergiant   \\\\\n",
       "\t 21904 & 748490.00 & 1130.000 &  -7.670 & Hypergiant   \\\\\n",
       "\t 38940 & 374830.00 & 1356.000 &  -9.930 & Hypergiant   \\\\\n",
       "\t 30839 & 834042.00 & 1194.000 & -10.630 & Hypergiant   \\\\\n",
       "\t  8829 & 537493.00 & 1423.000 & -10.730 & Hypergiant   \\\\\n",
       "\t  9235 & 404940.00 & 1112.000 & -11.230 & Hypergiant   \\\\\n",
       "\t 37882 & 294903.00 & 1783.000 &  -7.800 & Hypergiant   \\\\\n",
       "\\end{tabular}\n"
      ],
      "text/markdown": [
       "\n",
       "A tibble: 240 × 5\n",
       "\n",
       "| temperature &lt;dbl&gt; | luminosity &lt;dbl&gt; | radius &lt;dbl&gt; | absolute_magnitude &lt;dbl&gt; | star_category &lt;chr&gt; |\n",
       "|---|---|---|---|---|\n",
       "|  3068 | 0.002400 | 0.17000 | 16.120 | Brown Dwarf |\n",
       "|  3042 | 0.000500 | 0.15420 | 16.600 | Brown Dwarf |\n",
       "|  2600 | 0.000300 | 0.10200 | 18.700 | Brown Dwarf |\n",
       "|  2800 | 0.000200 | 0.16000 | 16.650 | Brown Dwarf |\n",
       "|  1939 | 0.000138 | 0.10300 | 20.060 | Brown Dwarf |\n",
       "|  2840 | 0.000650 | 0.11000 | 16.980 | Brown Dwarf |\n",
       "|  2637 | 0.000730 | 0.12700 | 17.220 | Brown Dwarf |\n",
       "|  2600 | 0.000400 | 0.09600 | 17.400 | Brown Dwarf |\n",
       "|  2650 | 0.000690 | 0.11000 | 17.450 | Brown Dwarf |\n",
       "|  2700 | 0.000180 | 0.13000 | 16.050 | Brown Dwarf |\n",
       "|  3600 | 0.002900 | 0.51000 | 10.690 | Red Dwarf   |\n",
       "|  3129 | 0.012200 | 0.37610 | 11.790 | Red Dwarf   |\n",
       "|  3134 | 0.000400 | 0.19600 | 13.210 | Red Dwarf   |\n",
       "|  3628 | 0.005500 | 0.39300 | 10.480 | Red Dwarf   |\n",
       "|  2650 | 0.000600 | 0.14000 | 11.782 | Red Dwarf   |\n",
       "|  3340 | 0.003800 | 0.24000 | 13.070 | Red Dwarf   |\n",
       "|  2799 | 0.001800 | 0.16000 | 14.790 | Red Dwarf   |\n",
       "|  3692 | 0.003670 | 0.47000 | 10.800 | Red Dwarf   |\n",
       "|  3192 | 0.003620 | 0.19670 | 13.530 | Red Dwarf   |\n",
       "|  3441 | 0.039000 | 0.35100 | 11.180 | Red Dwarf   |\n",
       "| 25000 | 0.056000 | 0.00840 | 10.580 | White Dwarf |\n",
       "|  7740 | 0.000490 | 0.01234 | 14.020 | White Dwarf |\n",
       "|  7220 | 0.000170 | 0.01100 | 14.230 | White Dwarf |\n",
       "|  8500 | 0.000500 | 0.01000 | 14.500 | White Dwarf |\n",
       "| 16500 | 0.013000 | 0.01400 | 11.890 | White Dwarf |\n",
       "| 12990 | 0.000085 | 0.00984 | 12.230 | White Dwarf |\n",
       "|  8570 | 0.000810 | 0.00970 | 14.200 | White Dwarf |\n",
       "|  7700 | 0.000110 | 0.01280 | 14.470 | White Dwarf |\n",
       "| 11790 | 0.000150 | 0.01100 | 12.590 | White Dwarf |\n",
       "|  7230 | 0.000080 | 0.01300 | 14.080 | White Dwarf |\n",
       "| ⋮ | ⋮ | ⋮ | ⋮ | ⋮ |\n",
       "| 22350 |  12450.00 |    6.360 |  -3.670 | Main Sequence |\n",
       "| 10012 |    552.00 |    5.856 |   0.013 | Main Sequence |\n",
       "| 13089 |    788.00 |    5.992 |  -0.120 | Main Sequence |\n",
       "| 22012 |   6748.00 |    6.640 |  -2.550 | Main Sequence |\n",
       "| 34190 | 198200.00 |    6.390 |  -4.570 | Main Sequence |\n",
       "| 32460 | 173800.00 |    6.237 |  -4.360 | Main Sequence |\n",
       "|  9320 |     29.00 |    1.910 |   1.236 | Main Sequence |\n",
       "| 19400 |  10920.00 |    6.030 |  -3.080 | Main Sequence |\n",
       "| 17140 |    883.00 |    5.653 |  -2.640 | Main Sequence |\n",
       "|  8250 |      9.25 |    1.930 |  -0.980 | Main Sequence |\n",
       "| 23678 | 244290.00 |   35.000 |  -6.270 | Supergiant    |\n",
       "| 12749 | 332520.00 |   76.000 |  -7.020 | Supergiant    |\n",
       "|  9383 | 342940.00 |   98.000 |  -6.980 | Supergiant    |\n",
       "| 23440 | 537430.00 |   81.000 |  -5.975 | Supergiant    |\n",
       "| 16787 | 246730.00 |   62.000 |  -6.350 | Supergiant    |\n",
       "| 18734 | 224780.00 |   46.000 |  -7.450 | Supergiant    |\n",
       "|  9892 | 593900.00 |   80.000 |  -7.262 | Supergiant    |\n",
       "| 10930 | 783930.00 |   25.000 |  -6.224 | Supergiant    |\n",
       "| 23095 | 347820.00 |   86.000 |  -5.905 | Supergiant    |\n",
       "| 21738 | 748890.00 |   92.000 |  -7.346 | Supergiant    |\n",
       "| 24145 | 382993.00 | 1494.000 |  -8.840 | Hypergiant    |\n",
       "| 38234 | 272830.00 | 1356.000 |  -9.290 | Hypergiant    |\n",
       "| 32489 | 648430.00 | 1948.500 | -10.840 | Hypergiant    |\n",
       "| 27739 | 849420.00 | 1252.000 |  -7.590 | Hypergiant    |\n",
       "| 21904 | 748490.00 | 1130.000 |  -7.670 | Hypergiant    |\n",
       "| 38940 | 374830.00 | 1356.000 |  -9.930 | Hypergiant    |\n",
       "| 30839 | 834042.00 | 1194.000 | -10.630 | Hypergiant    |\n",
       "|  8829 | 537493.00 | 1423.000 | -10.730 | Hypergiant    |\n",
       "|  9235 | 404940.00 | 1112.000 | -11.230 | Hypergiant    |\n",
       "| 37882 | 294903.00 | 1783.000 |  -7.800 | Hypergiant    |\n",
       "\n"
      ],
      "text/plain": [
       "    temperature luminosity radius   absolute_magnitude star_category\n",
       "1    3068       0.002400   0.17000  16.120             Brown Dwarf  \n",
       "2    3042       0.000500   0.15420  16.600             Brown Dwarf  \n",
       "3    2600       0.000300   0.10200  18.700             Brown Dwarf  \n",
       "4    2800       0.000200   0.16000  16.650             Brown Dwarf  \n",
       "5    1939       0.000138   0.10300  20.060             Brown Dwarf  \n",
       "6    2840       0.000650   0.11000  16.980             Brown Dwarf  \n",
       "7    2637       0.000730   0.12700  17.220             Brown Dwarf  \n",
       "8    2600       0.000400   0.09600  17.400             Brown Dwarf  \n",
       "9    2650       0.000690   0.11000  17.450             Brown Dwarf  \n",
       "10   2700       0.000180   0.13000  16.050             Brown Dwarf  \n",
       "11   3600       0.002900   0.51000  10.690             Red Dwarf    \n",
       "12   3129       0.012200   0.37610  11.790             Red Dwarf    \n",
       "13   3134       0.000400   0.19600  13.210             Red Dwarf    \n",
       "14   3628       0.005500   0.39300  10.480             Red Dwarf    \n",
       "15   2650       0.000600   0.14000  11.782             Red Dwarf    \n",
       "16   3340       0.003800   0.24000  13.070             Red Dwarf    \n",
       "17   2799       0.001800   0.16000  14.790             Red Dwarf    \n",
       "18   3692       0.003670   0.47000  10.800             Red Dwarf    \n",
       "19   3192       0.003620   0.19670  13.530             Red Dwarf    \n",
       "20   3441       0.039000   0.35100  11.180             Red Dwarf    \n",
       "21  25000       0.056000   0.00840  10.580             White Dwarf  \n",
       "22   7740       0.000490   0.01234  14.020             White Dwarf  \n",
       "23   7220       0.000170   0.01100  14.230             White Dwarf  \n",
       "24   8500       0.000500   0.01000  14.500             White Dwarf  \n",
       "25  16500       0.013000   0.01400  11.890             White Dwarf  \n",
       "26  12990       0.000085   0.00984  12.230             White Dwarf  \n",
       "27   8570       0.000810   0.00970  14.200             White Dwarf  \n",
       "28   7700       0.000110   0.01280  14.470             White Dwarf  \n",
       "29  11790       0.000150   0.01100  12.590             White Dwarf  \n",
       "30   7230       0.000080   0.01300  14.080             White Dwarf  \n",
       "⋮   ⋮           ⋮          ⋮        ⋮                  ⋮            \n",
       "211 22350        12450.00     6.360  -3.670            Main Sequence\n",
       "212 10012          552.00     5.856   0.013            Main Sequence\n",
       "213 13089          788.00     5.992  -0.120            Main Sequence\n",
       "214 22012         6748.00     6.640  -2.550            Main Sequence\n",
       "215 34190       198200.00     6.390  -4.570            Main Sequence\n",
       "216 32460       173800.00     6.237  -4.360            Main Sequence\n",
       "217  9320           29.00     1.910   1.236            Main Sequence\n",
       "218 19400        10920.00     6.030  -3.080            Main Sequence\n",
       "219 17140          883.00     5.653  -2.640            Main Sequence\n",
       "220  8250            9.25     1.930  -0.980            Main Sequence\n",
       "221 23678       244290.00    35.000  -6.270            Supergiant   \n",
       "222 12749       332520.00    76.000  -7.020            Supergiant   \n",
       "223  9383       342940.00    98.000  -6.980            Supergiant   \n",
       "224 23440       537430.00    81.000  -5.975            Supergiant   \n",
       "225 16787       246730.00    62.000  -6.350            Supergiant   \n",
       "226 18734       224780.00    46.000  -7.450            Supergiant   \n",
       "227  9892       593900.00    80.000  -7.262            Supergiant   \n",
       "228 10930       783930.00    25.000  -6.224            Supergiant   \n",
       "229 23095       347820.00    86.000  -5.905            Supergiant   \n",
       "230 21738       748890.00    92.000  -7.346            Supergiant   \n",
       "231 24145       382993.00  1494.000  -8.840            Hypergiant   \n",
       "232 38234       272830.00  1356.000  -9.290            Hypergiant   \n",
       "233 32489       648430.00  1948.500 -10.840            Hypergiant   \n",
       "234 27739       849420.00  1252.000  -7.590            Hypergiant   \n",
       "235 21904       748490.00  1130.000  -7.670            Hypergiant   \n",
       "236 38940       374830.00  1356.000  -9.930            Hypergiant   \n",
       "237 30839       834042.00  1194.000 -10.630            Hypergiant   \n",
       "238  8829       537493.00  1423.000 -10.730            Hypergiant   \n",
       "239  9235       404940.00  1112.000 -11.230            Hypergiant   \n",
       "240 37882       294903.00  1783.000  -7.800            Hypergiant   "
      ]
     },
     "metadata": {},
     "output_type": "display_data"
    }
   ],
   "source": [
    "# loading and tidying\n",
    "star_raw_data <- read_csv(dataset_url) \n",
    "\n",
    "star_data <- star_raw_data |>\n",
    "    rename(temperature = \"Temperature (K)\",\n",
    "           luminosity = \"Luminosity (L/Lo)\",\n",
    "           radius = \"Radius (R/Ro)\",\n",
    "           absolute_magnitude = \"Absolute magnitude (Mv)\",\n",
    "           star_type = \"Star type\",\n",
    "           star_category = \"Star category\",\n",
    "           star_colour = \"Star color\",\n",
    "           spectral_class = \"Spectral Class\") |>\n",
    "    select(temperature:absolute_magnitude,star_category)\n",
    "\n",
    "star_data"
   ]
  },
  {
   "cell_type": "code",
   "execution_count": null,
   "id": "43394fd9-8ac1-4cae-b926-0157a8799ab0",
   "metadata": {},
   "outputs": [],
   "source": []
  },
  {
   "cell_type": "markdown",
   "id": "6ceb3165-79bf-4ad7-a259-63f26314d5fe",
   "metadata": {
    "tags": []
   },
   "source": [
    "### Methods"
   ]
  },
  {
   "cell_type": "code",
   "execution_count": null,
   "id": "4b3e4081-1950-4a7c-a483-ade0ecb0bdfe",
   "metadata": {},
   "outputs": [],
   "source": []
  }
 ],
 "metadata": {
  "kernelspec": {
   "display_name": "R",
   "language": "R",
   "name": "ir"
  },
  "language_info": {
   "codemirror_mode": "r",
   "file_extension": ".r",
   "mimetype": "text/x-r-source",
   "name": "R",
   "pygments_lexer": "r",
   "version": "4.2.2"
  }
 },
 "nbformat": 4,
 "nbformat_minor": 5
}
